{
 "cells": [
  {
   "cell_type": "code",
   "execution_count": 1,
   "metadata": {},
   "outputs": [
    {
     "name": "stdout",
     "output_type": "stream",
     "text": [
      "Training data size is 1934*1024\n"
     ]
    }
   ],
   "source": [
    "import numpy as np\n",
    "import os\n",
    "from sklearn.neighbors import KNeighborsClassifier\n",
    "from sklearn.naive_bayes import MultinomialNB\n",
    "\n",
    "#  input all training data\n",
    "# prepare for saving data\n",
    "training_data = []\n",
    "training_label = []\n",
    "rows = 32\n",
    "cols = 32\n",
    "# prepare for inputting data\n",
    "prior_num = 0\n",
    "os.getcwd()                                         # get the location of the fold\n",
    "fold_loc = os.getcwd() + '\\digits\\\\trainingDigits'\n",
    "while prior_num < 10:\n",
    "    front = str(prior_num)\n",
    "    last = 0\n",
    "    while 1:\n",
    "        file ='\\\\' + front + '_' + str(last) + '.txt'\n",
    "        tf = os.path.exists(fold_loc + file)\n",
    "        if tf : # exist route\n",
    "            # print(fold_loc + file)\n",
    "            f = open(fold_loc + file)\n",
    "            lines = f.readlines()\n",
    "            training = []\n",
    "            training_label.append(prior_num) # save label of training data\n",
    "            row = 0\n",
    "            while row < rows:# transfer str to number\n",
    "                list_line = list(lines[row])\n",
    "                list_line.pop()\n",
    "                col = 0\n",
    "                while col < cols:\n",
    "                    list_line[col]=int(list_line[col])\n",
    "                    col = col + 1\n",
    "                training= training +list_line\n",
    "                row = row + 1\n",
    "                f.close()\n",
    "            training_data.append(training)\n",
    "            #print('saving data in training_data')\n",
    "            last = last + 1\n",
    "        else :\n",
    "            #print(front+' is OK')\n",
    "            break\n",
    "    prior_num = prior_num + 1\n",
    "\n",
    "np.matrix(training_data)\n",
    "print('Training data size is '+str(len(training_data))+'*'+str(len(training_data[0])))"
   ]
  },
  {
   "cell_type": "code",
   "execution_count": 2,
   "metadata": {},
   "outputs": [
    {
     "name": "stdout",
     "output_type": "stream",
     "text": [
      "Test data size is 946*1024\n"
     ]
    }
   ],
   "source": [
    "#  input all test data\n",
    "# prepare for saving data\n",
    "test_data = []\n",
    "test_label = []\n",
    "rows = 32\n",
    "cols = 32\n",
    "# prepare for inputting data\n",
    "prior_num = 0\n",
    "os.getcwd()                                         # get the location of the fold\n",
    "fold_loc = os.getcwd() + '\\digits\\\\testDigits'\n",
    "while prior_num < 10:\n",
    "    front = str(prior_num)\n",
    "    last = 0\n",
    "    while 1:\n",
    "        file ='\\\\' + front + '_' + str(last) + '.txt'\n",
    "        tf = os.path.exists(fold_loc + file)\n",
    "        if tf : # exist route\n",
    "            # print(fold_loc + file)\n",
    "            f = open(fold_loc + file)\n",
    "            lines = f.readlines()\n",
    "            test = []\n",
    "            test_label.append(prior_num) # save label of training data\n",
    "            row = 0\n",
    "            while row < rows:  # transfer str to number\n",
    "                list_line = list(lines[row])\n",
    "                list_line.pop()\n",
    "                col = 0\n",
    "                while col < cols:\n",
    "                    list_line[col]=int(list_line[col])\n",
    "                    col = col + 1\n",
    "                test = test +list_line\n",
    "                row = row + 1\n",
    "                f.close()\n",
    "            test_data.append(test)\n",
    "            #print('saving data in test_data')\n",
    "            last = last + 1\n",
    "        else :\n",
    "            #print(front+' is OK')\n",
    "            break\n",
    "    prior_num = prior_num + 1\n",
    "\n",
    "np.matrix(test_data)\n",
    "print('Test data size is '+str(len(test_data))+'*'+str(len(test_data[0])))"
   ]
  },
  {
   "cell_type": "code",
   "execution_count": 7,
   "metadata": {},
   "outputs": [
    {
     "name": "stdout",
     "output_type": "stream",
     "text": [
      "Saving figure figure0\n",
      "prior_num is 0\n"
     ]
    },
    {
     "data": {
      "image/png": "[encoded data removed]",
      "text/plain": [
       "<matplotlib.figure.Figure at 0x1dba2668>"
      ]
     },
     "metadata": {
      "needs_background": "light"
     },
     "output_type": "display_data"
    },
    {
     "name": "stdout",
     "output_type": "stream",
     "text": [
      "Saving figure figure1\n",
      "prior_num is 1\n"
     ]
    },
    {
     "data": {
      "image/png": "[encoded data removed]",
      "text/plain": [
       "<matplotlib.figure.Figure at 0x1dba2a20>"
      ]
     },
     "metadata": {
      "needs_background": "light"
     },
     "output_type": "display_data"
    },
    {
     "name": "stdout",
     "output_type": "stream",
     "text": [
      "Saving figure figure2\n",
      "prior_num is 2\n"
     ]
    },
    {
     "data": {
      "image/png": "[encoded data removed]",
      "text/plain": [
       "<matplotlib.figure.Figure at 0x1ca3deb8>"
      ]
     },
     "metadata": {
      "needs_background": "light"
     },
     "output_type": "display_data"
    },
    {
     "name": "stdout",
     "output_type": "stream",
     "text": [
      "Saving figure figure3\n",
      "prior_num is 3\n"
     ]
    },
    {
     "data": {
      "image/png": "[encoded data removed]",
      "text/plain": [
       "<matplotlib.figure.Figure at 0x1b3cbe80>"
      ]
     },
     "metadata": {
      "needs_background": "light"
     },
     "output_type": "display_data"
    },
    {
     "name": "stdout",
     "output_type": "stream",
     "text": [
      "Saving figure figure4\n",
      "prior_num is 4\n"
     ]
    },
    {
     "data": {
      "image/png": "[encoded data removed]",
      "text/plain": [
       "<matplotlib.figure.Figure at 0x1b459f28>"
      ]
     },
     "metadata": {
      "needs_background": "light"
     },
     "output_type": "display_data"
    },
    {
     "name": "stdout",
     "output_type": "stream",
     "text": [
      "Saving figure figure5\n",
      "prior_num is 5\n"
     ]
    },
    {
     "data": {
      "image/png": "[encoded data removed]",
      "text/plain": [
       "<matplotlib.figure.Figure at 0x1b236320>"
      ]
     },
     "metadata": {
      "needs_background": "light"
     },
     "output_type": "display_data"
    },
    {
     "name": "stdout",
     "output_type": "stream",
     "text": [
      "Saving figure figure6\n",
      "prior_num is 6\n"
     ]
    },
    {
     "data": {
      "image/png": "[encoded data removed]",
      "text/plain": [
       "<matplotlib.figure.Figure at 0x1b55fa58>"
      ]
     },
     "metadata": {
      "needs_background": "light"
     },
     "output_type": "display_data"
    },
    {
     "name": "stdout",
     "output_type": "stream",
     "text": [
      "Saving figure figure7\n",
      "prior_num is 7\n"
     ]
    },
    {
     "data": {
      "image/png": "[encoded data removed]",
      "text/plain": [
       "<matplotlib.figure.Figure at 0x1b52a160>"
      ]
     },
     "metadata": {
      "needs_background": "light"
     },
     "output_type": "display_data"
    },
    {
     "name": "stdout",
     "output_type": "stream",
     "text": [
      "Saving figure figure8\n",
      "prior_num is 8\n"
     ]
    },
    {
     "data": {
      "image/png": "[encoded data removed]",
      "text/plain": [
       "<matplotlib.figure.Figure at 0x1b4f6320>"
      ]
     },
     "metadata": {
      "needs_background": "light"
     },
     "output_type": "display_data"
    },
    {
     "name": "stdout",
     "output_type": "stream",
     "text": [
      "Saving figure figure9\n",
      "prior_num is 9\n"
     ]
    },
    {
     "data": {
      "image/png": "[encoded data removed]",
      "text/plain": [
       "<matplotlib.figure.Figure at 0x1b4f6a58>"
      ]
     },
     "metadata": {
      "needs_background": "light"
     },
     "output_type": "display_data"
    }
   ],
   "source": [
    "# plot all figures\n",
    "import matplotlib.pyplot as plt\n",
    "from matplotlib import interactive\n",
    "import numpy as np\n",
    "import os\n",
    "\n",
    "PROJECT_ROOT_DIR = \".\"\n",
    "CHAPTER_ID = \"classification\"\n",
    "def save_fig(fig_id, tight_layout=True):\n",
    "    path = os.path.join(os.getcwd() + '\\digits\\\\trainingDigits', fig_id + \".png\")\n",
    "    print(\"Saving figure\", fig_id)\n",
    "    if tight_layout:\n",
    "        plt.tight_layout()\n",
    "    plt.savefig(path, format='png', dpi=300)\n",
    "prior_num = 0\n",
    "os.getcwd()                                         # get the location of the fold\n",
    "fold_loc = os.getcwd() + '\\digits\\\\trainingDigits'\n",
    "some_digit_image = np.zeros((32,32))\n",
    "\n",
    "while prior_num < 10:\n",
    "    front = str(prior_num)\n",
    "    last = 0\n",
    "    file ='\\\\' + front + '_' + str(last) + '.txt'\n",
    "    tf = os.path.exists(fold_loc + file)\n",
    "    if tf :\n",
    "        file = open(fold_loc + file)\n",
    "        count=0\n",
    "        for line in file.readlines():\n",
    "            for i in range(0,32):\n",
    "               some_digit_image[count][i] = line[i]\n",
    "            count = count + 1\n",
    "    plt.imshow(some_digit_image, cmap=plt.cm.Greys,\n",
    "      interpolation=\"nearest\")\n",
    "    plt.axis(\"off\")\n",
    "    save_fig(\"figure\"+front)\n",
    "    print('prior_num is ' +str( prior_num))\n",
    "    prior_num = prior_num + 1\n",
    "    interactive(True)\n",
    "    plt.show()"
   ]
  },
  {
   "cell_type": "code",
   "execution_count": 4,
   "metadata": {},
   "outputs": [
    {
     "name": "stdout",
     "output_type": "stream",
     "text": [
      "Naive Bayes error ratio of test data is 0.07610993657505286\n"
     ]
    }
   ],
   "source": [
    "# Naive Bayes\n",
    "clf = MultinomialNB()\n",
    "clf.fit(training_data,training_label)\n",
    "NB_result = clf.predict(test_data)\n",
    "error_i = 0\n",
    "error = 0\n",
    "while error_i < len(NB_result):\n",
    "    test = NB_result[error_i] - test_label[error_i]\n",
    "    error_i = error_i + 1\n",
    "    if test != 0:\n",
    "        error = error +1\n",
    "NB_error_ratio = error/len(NB_result)\n",
    "print('Naive Bayes error ratio of test data is '+str(NB_error_ratio))"
   ]
  },
  {
   "cell_type": "code",
   "execution_count": 5,
   "metadata": {},
   "outputs": [
    {
     "name": "stdout",
     "output_type": "stream",
     "text": [
      "Naive Bayes error ratio of training data is 0.07238883143743537\n"
     ]
    }
   ],
   "source": [
    "# Naive Bayes\n",
    "clf = MultinomialNB()\n",
    "clf.fit(training_data,training_label)\n",
    "NB_result = clf.predict(training_data)\n",
    "error_i = 0\n",
    "error = 0\n",
    "while error_i < len(NB_result):\n",
    "    test = NB_result[error_i] - training_label[error_i]\n",
    "    error_i = error_i + 1\n",
    "    if test != 0:\n",
    "        error = error +1\n",
    "NB_error_ratio = error/len(NB_result)\n",
    "print('Naive Bayes error ratio of training data is '+str(NB_error_ratio))"
   ]
  },
  {
   "cell_type": "code",
   "execution_count": 6,
   "metadata": {},
   "outputs": [
    {
     "name": "stdout",
     "output_type": "stream",
     "text": [
      "k is 1, KNN error ratio is 0.013742071881606765\n",
      "k is 2, KNN error ratio is 0.023255813953488372\n",
      "k is 3, KNN error ratio is 0.012684989429175475\n",
      "k is 4, KNN error ratio is 0.016913319238900635\n",
      "k is 5, KNN error ratio is 0.019027484143763214\n",
      "k is 6, KNN error ratio is 0.023255813953488372\n",
      "k is 7, KNN error ratio is 0.023255813953488372\n",
      "k is 8, KNN error ratio is 0.023255813953488372\n",
      "k is 9, KNN error ratio is 0.02748414376321353\n",
      "k is 10, KNN error ratio is 0.024312896405919663\n"
     ]
    }
   ],
   "source": [
    "# KNN\n",
    "neighbors = 1\n",
    "x_axis = []\n",
    "y_axis = []\n",
    "while neighbors < 11:\n",
    "    x_axis.append(neighbors)\n",
    "    neigh = KNeighborsClassifier(n_neighbors=neighbors)\n",
    "    neigh.fit(training_data, training_label)\n",
    "    knn_result = neigh.predict(test_data)\n",
    "    error_i = 0\n",
    "    error = 0\n",
    "    while error_i < len(knn_result):\n",
    "        test = knn_result[error_i] - test_label[error_i]\n",
    "        error_i = error_i + 1\n",
    "        if test != 0:\n",
    "            error = error +1\n",
    "    knn_error_ratio = error/len(knn_result)\n",
    "    y_axis.append(knn_error_ratio)\n",
    "    print('k is '+str(neighbors)+', KNN error ratio is '+str(knn_error_ratio))\n",
    "    neighbors = neighbors + 1"
   ]
  },
  {
   "cell_type": "code",
   "execution_count": 7,
   "metadata": {},
   "outputs": [
    {
     "data": {
      "image/png": "[encoded data removed]",
      "text/plain": [
       "<matplotlib.figure.Figure at 0x53cc2e8>"
      ]
     },
     "metadata": {
      "needs_background": "light"
     },
     "output_type": "display_data"
    }
   ],
   "source": [
    "y_axis = np.array(y_axis)\n",
    "plt.figure()\n",
    "plt.xlabel(\"Number of k\")\n",
    "plt.ylabel(\"Error rate of KNN\") \n",
    "plt.plot(x_axis, y_axis)\n",
    "plt.savefig(\"Error rate of KNN.pdf\")\n",
    "interactive(True)\n",
    "plt.show()"
   ]
  },
  {
   "cell_type": "code",
   "execution_count": 2,
   "metadata": {},
   "outputs": [
    {
     "name": "stdout",
     "output_type": "stream",
     "text": [
      "training number is 10\n",
      "training number is 20\n",
      "training number is 30\n",
      "training number is 40\n",
      "training number is 50\n",
      "training number is 60\n",
      "training number is 70\n",
      "training number is 80\n",
      "training number is 90\n",
      "training number is 100\n",
      "training number is 110\n",
      "training number is 120\n",
      "training number is 130\n",
      "training number is 140\n",
      "training number is 150\n",
      "training number is 160\n",
      "training number is 170\n",
      "training number is 180\n",
      "NB training result is [0.02, 0.045, 0.07, 0.0725, 0.058, 0.05333333333333334, 0.06142857142857143, 0.06625, 0.06444444444444444, 0.067, 0.06636363636363636, 0.06583333333333333, 0.06615384615384616, 0.07285714285714286, 0.07333333333333333, 0.07375, 0.07411764705882352, 0.07611111111111112]\n",
      "KNN training result is [0.0, 0.0, 0.0, 0.0, 0.0, 0.0, 0.0, 0.0, 0.0, 0.0, 0.0, 0.0, 0.0, 0.0, 0.0, 0.0, 0.0, 0.0]\n",
      "NB test result is [0.18816067653276955, 0.14693446088794926, 0.14587737843551796, 0.13636363636363635, 0.10359408033826638, 0.1014799154334038, 0.08879492600422834, 0.0919661733615222, 0.08456659619450317, 0.0824524312896406, 0.08668076109936575, 0.08562367864693446, 0.08773784355179703, 0.08456659619450317, 0.07293868921775898, 0.07399577167019028, 0.07716701902748414, 0.07928118393234672]\n",
      "KNN test result is [0.13107822410147993, 0.10465116279069768, 0.08668076109936575, 0.05179704016913319, 0.046511627906976744, 0.042283298097251586, 0.03382663847780127, 0.03488372093023256, 0.02959830866807611, 0.026427061310782242, 0.026427061310782242, 0.023255813953488372, 0.022198731501057084, 0.015856236786469344, 0.014799154334038054, 0.015856236786469344, 0.014799154334038054, 0.014799154334038054]\n"
     ]
    }
   ],
   "source": [
    "import numpy as np\n",
    "import os\n",
    "from sklearn.neighbors import KNeighborsClassifier\n",
    "from sklearn.naive_bayes import MultinomialNB\n",
    "\n",
    "training_number=10\n",
    "x_axis= []\n",
    "NB_training_result = []\n",
    "KNN_training_result = []\n",
    "NB_test_result = []\n",
    "KNN_test_result = []\n",
    "rows = 32\n",
    "cols = 32\n",
    "while training_number <= 180:\n",
    "    training_data = []\n",
    "    training_label = []\n",
    "    # prepare for inputting data\n",
    "    prior_num = 0\n",
    "    os.getcwd()                                         # get the location of the fold\n",
    "    fold_loc = os.getcwd() + '\\digits\\\\trainingDigits'\n",
    "    while prior_num < 10:\n",
    "      front = str(prior_num)\n",
    "      last = 0\n",
    "      training_set_number = 0\n",
    "      while training_set_number < training_number:\n",
    "          file ='\\\\' + front + '_' + str(last) + '.txt'\n",
    "          tf = os.path.exists(fold_loc + file)\n",
    "          if tf : # exist route\n",
    "              f = open(fold_loc + file)\n",
    "              lines = f.readlines()\n",
    "              training = []\n",
    "              training_label.append(prior_num) # save label of training data\n",
    "              row = 0\n",
    "              while row < rows:# transfer str to number\n",
    "                  list_line = list(lines[row])\n",
    "                  list_line.pop()\n",
    "                  col = 0\n",
    "                  while col < cols:\n",
    "                      list_line[col]=int(list_line[col])\n",
    "                      col = col + 1\n",
    "                  training= training +list_line\n",
    "                  row = row + 1\n",
    "                  f.close()\n",
    "              training_data.append(training)\n",
    "              last = last + 1\n",
    "          else :\n",
    "              break\n",
    "          training_set_number = training_set_number + 1\n",
    "      prior_num = prior_num + 1\n",
    "    np.matrix(training_data)\n",
    "    #  input all test data\n",
    "    # prepare for saving data\n",
    "    test_data = []\n",
    "    test_label = []\n",
    "    # prepare for inputting data\n",
    "    prior_num = 0\n",
    "    os.getcwd()                                         # get the location of the fold\n",
    "    fold_loc = os.getcwd() + '\\digits\\\\testDigits'\n",
    "    while prior_num < 10:\n",
    "      front = str(prior_num)\n",
    "      last = 0\n",
    "      while 1:\n",
    "          file ='\\\\' + front + '_' + str(last) + '.txt'\n",
    "          tf = os.path.exists(fold_loc + file)\n",
    "          if tf : # exist route\n",
    "              # print(fold_loc + file)\n",
    "              f = open(fold_loc + file)\n",
    "              lines = f.readlines()\n",
    "              test = []\n",
    "              test_label.append(prior_num) # save label of training data\n",
    "              row = 0\n",
    "              while row < rows:  # transfer str to number\n",
    "                  list_line = list(lines[row])\n",
    "                  list_line.pop()\n",
    "                  col = 0\n",
    "                  while col < cols:\n",
    "                      list_line[col]=int(list_line[col])\n",
    "                      col = col + 1\n",
    "                  test = test +list_line\n",
    "                  row = row + 1\n",
    "                  f.close()\n",
    "              test_data.append(test)\n",
    "              last = last + 1\n",
    "          else :\n",
    "              break\n",
    "      prior_num = prior_num + 1\n",
    "    np.matrix(test_data)\n",
    "    # KNN of test\n",
    "    neigh = KNeighborsClassifier(n_neighbors=1)\n",
    "    neigh.fit(training_data, training_label)\n",
    "    knn_result = neigh.predict(test_data)\n",
    "    error_i = 0\n",
    "    error = 0\n",
    "    while error_i < len(knn_result):\n",
    "      test = knn_result[error_i] - test_label[error_i]\n",
    "      error_i = error_i + 1\n",
    "      if test != 0:\n",
    "          error = error +1\n",
    "    knn_error_ratio = error/len(knn_result)\n",
    "    KNN_test_result.append(knn_error_ratio)\n",
    "    # KNN of training\n",
    "    neigh = KNeighborsClassifier(n_neighbors=1)\n",
    "    neigh.fit(training_data, training_label)\n",
    "    knn_result = neigh.predict(training_data)\n",
    "    error_i = 0\n",
    "    error = 0\n",
    "    while error_i < len(knn_result):\n",
    "      test = knn_result[error_i] - training_label[error_i]\n",
    "      error_i = error_i + 1\n",
    "      if test != 0:\n",
    "          error = error +1\n",
    "    knn_error_ratio = error/len(knn_result)\n",
    "    KNN_training_result.append(knn_error_ratio)\n",
    "    # Naive Bayes of test\n",
    "    clf = MultinomialNB()\n",
    "    clf.fit(training_data,training_label)\n",
    "    NB_result = clf.predict(test_data)\n",
    "    error_i = 0\n",
    "    error = 0\n",
    "    while error_i < len(NB_result):\n",
    "      test = NB_result[error_i] - test_label[error_i]\n",
    "      error_i = error_i + 1\n",
    "      if test != 0:\n",
    "          error = error +1\n",
    "    NB_error_ratio = error/len(NB_result)\n",
    "    NB_test_result.append(NB_error_ratio)\n",
    "    # Naive Bayes of training\n",
    "    clf = MultinomialNB()\n",
    "    clf.fit(training_data,training_label)\n",
    "    NB_result = clf.predict(training_data)\n",
    "    error_i = 0\n",
    "    error = 0\n",
    "    while error_i < len(NB_result):\n",
    "      test = NB_result[error_i] - training_label[error_i]\n",
    "      error_i = error_i + 1\n",
    "      if test != 0:\n",
    "          error = error +1\n",
    "    NB_error_ratio = error/len(NB_result)\n",
    "    NB_training_result.append(NB_error_ratio)\n",
    "    x_axis.append(training_number)\n",
    "    print('training number is '+str(training_number))\n",
    "    training_number = training_number + 10\n",
    "print('NB training result is '+ str(NB_training_result))\n",
    "print('KNN training result is '+ str(KNN_training_result))\n",
    "print('NB test result is '+ str(NB_test_result))\n",
    "print('KNN test result is '+str(KNN_test_result))"
   ]
  },
  {
   "cell_type": "code",
   "execution_count": 4,
   "metadata": {},
   "outputs": [
    {
     "data": {
      "image/png": "[encoded data removed]",
      "text/plain": [
       "<matplotlib.figure.Figure at 0x1c964e80>"
      ]
     },
     "metadata": {
      "needs_background": "light"
     },
     "output_type": "display_data"
    }
   ],
   "source": [
    "import matplotlib.pyplot as plt\n",
    "from matplotlib import interactive\n",
    "plt.figure(figsize=(8,4))\n",
    "plt.plot(x_axis,NB_training_result,\"b\",label = 'NB training error', linewidth=1)\n",
    "plt.plot(x_axis,NB_test_result,\"r\",label = 'NB test error',linewidth=1)\n",
    "plt.xlabel(\"Number of training points\")\n",
    "plt.ylabel(\"Error rate\")\n",
    "plt.legend()\n",
    "plt.savefig(\"NaiveBayes Result.pdf\")\n",
    "interactive(True)\n",
    "plt.show()"
   ]
  },
  {
   "cell_type": "code",
   "execution_count": 5,
   "metadata": {},
   "outputs": [
    {
     "data": {
      "image/png": "[encoded data removed]",
      "text/plain": [
       "<matplotlib.figure.Figure at 0x1dbc4da0>"
      ]
     },
     "metadata": {
      "needs_background": "light"
     },
     "output_type": "display_data"
    }
   ],
   "source": [
    "plt.figure(figsize=(8,4))\n",
    "plt.plot(x_axis,KNN_training_result,\"b\",label = '1NN training error', linewidth=1)\n",
    "plt.plot(x_axis,KNN_test_result,\"r\",label = '1NN test error',linewidth=1)\n",
    "plt.xlabel(\"Number of training points\")\n",
    "plt.ylabel(\"Error rate\")\n",
    "plt.legend()\n",
    "plt.savefig(\"1NN Result.pdf\")\n",
    "interactive(True)\n",
    "plt.show()"
   ]
  },
  {
   "cell_type": "code",
   "execution_count": 6,
   "metadata": {},
   "outputs": [
    {
     "name": "stdout",
     "output_type": "stream",
     "text": [
      "-1\n",
      "KNN error rate with MNIST is 0.8974630021141649\n",
      "Naive Bayes error rate with MNIST is 0.912262156448203\n"
     ]
    }
   ],
   "source": [
    "#MNIST\n",
    "import numpy as np\n",
    "import os\n",
    "from sklearn.neighbors import KNeighborsClassifier\n",
    "from sklearn.naive_bayes import MultinomialNB\n",
    "from sklearn.datasets import fetch_mldata\n",
    "mnist = fetch_mldata('MNIST original', data_home='custom_data_home')\n",
    "x, y = mnist[\"data\"], mnist[\"target\"]\n",
    "x_train = x.reshape(len(x),784)\n",
    "#get test data\n",
    "test_data = []\n",
    "test_label = []\n",
    "rows = 32\n",
    "cols = 32\n",
    "prior_num = 0\n",
    "prior_num = 0\n",
    "os.getcwd()                                         # get the location of the fold\n",
    "fold_loc = os.getcwd() + '\\digits\\\\testDigits'\n",
    "while prior_num < 10:\n",
    "    front = str(prior_num)\n",
    "    last = 0\n",
    "    while 1:\n",
    "        file ='\\\\' + front + '_' + str(last) + '.txt'\n",
    "        tf = os.path.exists(fold_loc + file)\n",
    "        if tf : # exist route\n",
    "            # print(fold_loc + file)\n",
    "            f = open(fold_loc + file)\n",
    "            lines = f.readlines()\n",
    "            test = []\n",
    "            test_label.append(prior_num) # save label of training data\n",
    "            row = 0\n",
    "            while row < rows:  # transfer str to number\n",
    "                list_line = list(lines[row])\n",
    "                list_line.pop()\n",
    "                col = 0\n",
    "                while col < cols:\n",
    "                    list_line[col]=int(list_line[col])\n",
    "                    col = col + 1\n",
    "                test = test +list_line\n",
    "                row = row + 1\n",
    "                f.close()\n",
    "            test_data.append(test)\n",
    "            last = last + 1\n",
    "        else :\n",
    "            break\n",
    "    prior_num = prior_num + 1\n",
    "np.matrix(test_data)\n",
    "i = 0\n",
    "new_test_data =[]\n",
    "while i < len(test_data):\n",
    "    testi = np.reshape(test_data[i],(32,32))\n",
    "    testj=testi[2:30,2:30]\n",
    "    new_test_data.append(testj.flatten())\n",
    "    i = i + 1\n",
    "np.matrix(new_test_data)\n",
    "# KNN with MNIST data\n",
    "print(-1)\n",
    "neigh = KNeighborsClassifier(n_neighbors=1)\n",
    "neigh.fit(x, y)\n",
    "knn_result = neigh.predict(new_test_data)\n",
    "error_i = 0\n",
    "error = 0\n",
    "while error_i < len(knn_result):\n",
    "    test = knn_result[error_i] - test_label[error_i]\n",
    "    error_i = error_i + 1\n",
    "    if test != 0:\n",
    "        error = error +1\n",
    "\n",
    "knn_error_ratio = error/len(knn_result)\n",
    "print('KNN error rate with MNIST is '+str(knn_error_ratio))\n",
    "# Naive Bayes\n",
    "clf = MultinomialNB()\n",
    "clf.fit(x,y)\n",
    "NB_result = clf.predict(new_test_data)\n",
    "error_i = 0\n",
    "error = 0\n",
    "while error_i < len(NB_result):\n",
    "    test = NB_result[error_i] - test_label[error_i]\n",
    "    error_i = error_i + 1\n",
    "    if test != 0:\n",
    "        error = error +1\n",
    "NB_error_ratio = error/len(NB_result)\n",
    "print('Naive Bayes error rate with MNIST is '+str(NB_error_ratio))"
   ]
  },
  {
   "cell_type": "code",
   "execution_count": null,
   "metadata": {},
   "outputs": [],
   "source": []
  }
 ],
 "metadata": {
  "kernelspec": {
   "display_name": "Python 3",
   "language": "python",
   "name": "python3"
  },
  "language_info": {
   "codemirror_mode": {
    "name": "ipython",
    "version": 3
   },
   "file_extension": ".py",
   "mimetype": "text/x-python",
   "name": "python",
   "nbconvert_exporter": "python",
   "pygments_lexer": "ipython3",
   "version": "3.6.1"
  }
 },
 "nbformat": 4,
 "nbformat_minor": 1
}
